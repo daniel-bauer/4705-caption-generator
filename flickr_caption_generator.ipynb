{
 "cells": [
  {
   "cell_type": "markdown",
   "metadata": {
    "id": "D_0aPXZdOoi7"
   },
   "source": [
    "# COMS W4705 - Homework 5 \n",
    "## Image Captioning with Conditioned LSTM Generators\n",
    "Daniel Bauer <bauer@cs.columbia.edu>"
   ]
  },
  {
   "cell_type": "markdown",
   "metadata": {
    "id": "WHfHoPenOoi-"
   },
   "source": [
    "Follow the instructions in this notebook step-by step. Much of the code is provided, but some sections are marked with **todo**. \n",
    "\n",
    "Specifically, you will build the following components: \n",
    "\n",
    "* Create matrices of image representations using an off-the-shelf image encoder.\n",
    "* Read and preprocess the image captions. \n",
    "* Write a generator function that returns one training instance (input/output sequence pair) at a time. \n",
    "* Train an LSTM language generator on the caption data.\n",
    "* Write a decoder function for the language generator. \n",
    "* Add the image input to write an LSTM caption generator. \n",
    "* Implement beam search for the image caption generator.\n",
    "\n",
    "Please see the special submission instructions at the bottom.\n",
    "\n",
    "This notebook assumes that you are running it on a machine with the possibility of using a GPU (like the VM on GCP as instructed in tutorial)."
   ]
  },
  {
   "cell_type": "markdown",
   "metadata": {
    "id": "sVv4pan6OojB"
   },
   "source": [
    "### Getting Started \n",
    "\n",
    "First, run the following commands to make sure you have all required packages. "
   ]
  },
  {
   "cell_type": "code",
   "execution_count": null,
   "metadata": {
    "id": "sn9BUou7OojF"
   },
   "outputs": [],
   "source": [
    "import os\n",
    "from collections import defaultdict\n",
    "import numpy as np\n",
    "import PIL\n",
    "from matplotlib import pyplot as plt\n",
    "%matplotlib inline\n",
    "\n",
    "from tensorflow.keras import Sequential, Model\n",
    "from tensorflow.keras.layers import Embedding, LSTM, Dense, Input, Bidirectional, RepeatVector, Concatenate, Activation\n",
    "from tensorflow.keras.activations import softmax\n",
    "from tensorflow.keras.utils import to_categorical\n",
    "from tensorflow.keras.preprocessing.sequence import pad_sequences\n",
    "\n",
    "from tensorflow.keras.applications.inception_v3 import InceptionV3\n",
    "\n",
    "from tensorflow.keras.optimizers import Adam"
   ]
  },
  {
   "cell_type": "markdown",
   "metadata": {
    "id": "e4RdsO5hOojV"
   },
   "source": [
    "### Access to the flickr8k data\n",
    "\n",
    "We will use the flickr8k data set, described here in more detail: \n",
    "\n",
    "> M. Hodosh, P. Young and J. Hockenmaier (2013) \"Framing Image Description as a Ranking Task: Data, Models and Evaluation Metrics\", Journal of Artificial Intelligence Research, Volume 47, pages 853-899 http://www.jair.org/papers/paper3994.html when discussing our results\n",
    "\n",
    "The data is available here: https://storage.googleapis.com/4705-hw5-data/hw5data-20220809T182644Z-001.zip\n",
    "\n",
    "N.B.: Usage of this data is limited to this homework assignment. If you would like to experiment with the data set beyond this course, I suggest that you submit your own download request here (it's free): https://forms.illinois.edu/sec/1713398"
   ]
  },
  {
   "cell_type": "code",
   "execution_count": null,
   "metadata": {},
   "outputs": [],
   "source": [
    "#You can download the data by running the following command (it's about 1GB)\n",
    "\n",
    "! wget https://storage.googleapis.com/4705-hw5-data/hw5data-20220809T182644Z-001.zip    "
   ]
  },
  {
   "cell_type": "code",
   "execution_count": null,
   "metadata": {},
   "outputs": [],
   "source": [
    "# Then unzip the data \n",
    "! unzip hw5data-20220809T182644Z-001.zip "
   ]
  },
  {
   "cell_type": "markdown",
   "metadata": {},
   "source": [
    "If you are using a separate persistent disk to store the data, ssh into your VM instance and copy the data directory there. Either way, you want the following variable to point to the location of the data directory. "
   ]
  },
  {
   "cell_type": "code",
   "execution_count": null,
   "metadata": {
    "id": "4oTsle8kOojX"
   },
   "outputs": [],
   "source": [
    "FLICKR_PATH=\"hw5data\""
   ]
  },
  {
   "cell_type": "markdown",
   "metadata": {
    "id": "AaraJrWTOojt"
   },
   "source": [
    "## Part I: Image Encodings (14 pts)"
   ]
  },
  {
   "cell_type": "markdown",
   "metadata": {
    "id": "a77pjCYVOoju"
   },
   "source": [
    "The files Flickr_8k.trainImages.txt Flickr_8k.devImages.txt Flickr_8k.testImages.txt, contain a list of training, development, and test images, respectively. Let's load these lists. "
   ]
  },
  {
   "cell_type": "code",
   "execution_count": null,
   "metadata": {
    "id": "zq_DGtSMOojx"
   },
   "outputs": [],
   "source": [
    "def load_image_list(filename):\n",
    "    with open(filename,'r') as image_list_f: \n",
    "        return [line.strip() for line in image_list_f]    "
   ]
  },
  {
   "cell_type": "code",
   "execution_count": null,
   "metadata": {
    "id": "RW7otdy6Ooj5"
   },
   "outputs": [],
   "source": [
    "train_list = load_image_list(os.path.join(FLICKR_PATH, 'Flickr_8k.trainImages.txt'))\n",
    "dev_list = load_image_list(os.path.join(FLICKR_PATH,'Flickr_8k.devImages.txt'))\n",
    "test_list = load_image_list(os.path.join(FLICKR_PATH,'Flickr_8k.testImages.txt'))"
   ]
  },
  {
   "cell_type": "markdown",
   "metadata": {
    "id": "KQB2nByoOokA"
   },
   "source": [
    "Let's see how many images there are"
   ]
  },
  {
   "cell_type": "code",
   "execution_count": null,
   "metadata": {
    "id": "DumBmc6cOokC"
   },
   "outputs": [],
   "source": [
    "len(train_list), len(dev_list), len(test_list)"
   ]
  },
  {
   "cell_type": "markdown",
   "metadata": {
    "collapsed": true,
    "id": "XLYCKAmgOokI"
   },
   "source": [
    "Each entry is an image filename."
   ]
  },
  {
   "cell_type": "code",
   "execution_count": null,
   "metadata": {
    "id": "Z35gluAGOokJ"
   },
   "outputs": [],
   "source": [
    "dev_list[20]"
   ]
  },
  {
   "cell_type": "markdown",
   "metadata": {
    "id": "8u0WznmKOokR"
   },
   "source": [
    "The images are located in a subdirectory.  "
   ]
  },
  {
   "cell_type": "code",
   "execution_count": null,
   "metadata": {
    "id": "GQSGWTzEOokS"
   },
   "outputs": [],
   "source": [
    "IMG_PATH = os.path.join(FLICKR_PATH, \"Flickr8k_Dataset\")"
   ]
  },
  {
   "cell_type": "markdown",
   "metadata": {
    "id": "_H-6YFrLOokc"
   },
   "source": [
    "We can use PIL to open the image and matplotlib to display it. "
   ]
  },
  {
   "cell_type": "code",
   "execution_count": null,
   "metadata": {
    "id": "1Uw2frW3Ooke"
   },
   "outputs": [],
   "source": [
    "image = PIL.Image.open(os.path.join(IMG_PATH, dev_list[20]))\n",
    "image"
   ]
  },
  {
   "cell_type": "markdown",
   "metadata": {
    "id": "MRhUWZcJOokk"
   },
   "source": [
    "if you can't see the image, try"
   ]
  },
  {
   "cell_type": "code",
   "execution_count": null,
   "metadata": {
    "id": "FnWFkbeaOokm"
   },
   "outputs": [],
   "source": [
    "plt.imshow(image)"
   ]
  },
  {
   "cell_type": "markdown",
   "metadata": {
    "id": "r3aVuqVyOokv"
   },
   "source": [
    "We are going to use an off-the-shelf pre-trained image encoder, the Inception V3 network. The model is a version of a convolution neural network for object detection. Here is more detail about this model (not required for this project): \n",
    "\n",
    "> Szegedy, C., Vanhoucke, V., Ioffe, S., Shlens, J., & Wojna, Z. (2016). Rethinking the inception architecture for computer vision. In Proceedings of the IEEE conference on computer vision and pattern recognition (pp. 2818-2826).\n",
    "> https://www.cv-foundation.org/openaccess/content_cvpr_2016/html/Szegedy_Rethinking_the_Inception_CVPR_2016_paper.html\n",
    "\n",
    "The model requires that input images are presented as 299x299 pixels, with 3 color channels (RGB). The individual RGB values need to range between 0 and 1.0. The flickr images don't fit. "
   ]
  },
  {
   "cell_type": "code",
   "execution_count": null,
   "metadata": {
    "id": "24LAc7CQOokw"
   },
   "outputs": [],
   "source": [
    "np.asarray(image).shape"
   ]
  },
  {
   "cell_type": "markdown",
   "metadata": {
    "collapsed": true,
    "id": "aR0Kiij4Ook0"
   },
   "source": [
    "The values range from 0 to 255. "
   ]
  },
  {
   "cell_type": "code",
   "execution_count": null,
   "metadata": {
    "id": "jMr4ogYwOok1"
   },
   "outputs": [],
   "source": [
    "np.asarray(image)"
   ]
  },
  {
   "cell_type": "markdown",
   "metadata": {
    "id": "KduSZ1afOok8"
   },
   "source": [
    "We can use PIL to resize the image and then divide every value by 255. "
   ]
  },
  {
   "cell_type": "code",
   "execution_count": null,
   "metadata": {
    "id": "i6IGxLGKOok-"
   },
   "outputs": [],
   "source": [
    "new_image = np.asarray(image.resize((299,299))) / 255.0\n",
    "plt.imshow(new_image)"
   ]
  },
  {
   "cell_type": "code",
   "execution_count": null,
   "metadata": {
    "id": "N7WXp2EKOolB"
   },
   "outputs": [],
   "source": [
    "new_image.shape"
   ]
  },
  {
   "cell_type": "markdown",
   "metadata": {
    "id": "3q7LRvrQOolF"
   },
   "source": [
    "Let's put this all in a function for convenience. "
   ]
  },
  {
   "cell_type": "code",
   "execution_count": null,
   "metadata": {
    "id": "qFkdj0z9OolG"
   },
   "outputs": [],
   "source": [
    "def get_image(image_name):\n",
    "    image = PIL.Image.open(os.path.join(IMG_PATH, image_name))\n",
    "    return np.asarray(image.resize((299,299))) / 255.0                     "
   ]
  },
  {
   "cell_type": "code",
   "execution_count": null,
   "metadata": {
    "id": "aBRBXz4rOolM"
   },
   "outputs": [],
   "source": [
    "plt.imshow(get_image(dev_list[25]))"
   ]
  },
  {
   "cell_type": "markdown",
   "metadata": {
    "id": "sxrdFv5-OolP"
   },
   "source": [
    "Next, we load the pre-trained Inception model. "
   ]
  },
  {
   "cell_type": "code",
   "execution_count": null,
   "metadata": {
    "id": "21ip0Uz4OolQ"
   },
   "outputs": [],
   "source": [
    "img_model = InceptionV3(weights='imagenet') # This will download the weight files for you and might take a while."
   ]
  },
  {
   "cell_type": "code",
   "execution_count": null,
   "metadata": {
    "id": "Zeq3CNCvOolU"
   },
   "outputs": [],
   "source": [
    "img_model.summary() # this is quite a complex model. "
   ]
  },
  {
   "cell_type": "markdown",
   "metadata": {
    "id": "0_9XzAJKOolX"
   },
   "source": [
    "This is a prediction model,so the output is typically a softmax-activated vector representing 1000 possible object types. Because we are interested in an encoded representation of the image we are just going to use the second-to-last layer as a source of image encodings. Each image will be encoded as a vector of size 2048. \n",
    "\n",
    "We will use the following hack: hook up the input into a new Keras model and use the penultimate layer of the existing model as output."
   ]
  },
  {
   "cell_type": "code",
   "execution_count": null,
   "metadata": {
    "id": "paazc0l5OolY"
   },
   "outputs": [],
   "source": [
    "new_input = img_model.input\n",
    "new_output = img_model.layers[-2].output\n",
    "img_encoder = Model(new_input, new_output) # This is the final Keras image encoder model we will use."
   ]
  },
  {
   "cell_type": "markdown",
   "metadata": {
    "collapsed": true,
    "id": "pMJB30MuOolb"
   },
   "source": [
    "Let's try the encoder. At this point, you may want to add a GPU to the VM you are using (if not using already)."
   ]
  },
  {
   "cell_type": "code",
   "execution_count": null,
   "metadata": {
    "id": "4sjxaZY3Oolb"
   },
   "outputs": [],
   "source": [
    "encoded_image = img_encoder.predict(np.array([new_image]))"
   ]
  },
  {
   "cell_type": "code",
   "execution_count": null,
   "metadata": {
    "id": "3Y4PmPptOolf"
   },
   "outputs": [],
   "source": [
    "encoded_image"
   ]
  },
  {
   "cell_type": "markdown",
   "metadata": {
    "id": "lozxEAw7Ooll"
   },
   "source": [
    "**TODO:** We will need to create encodings for all images and store them in one big matrix (one for each dataset, train, dev, test).\n",
    "We can then save the matrices so that we never have to touch the bulky image data again. \n",
    "\n",
    "To save memory (but slow the process down a little bit) we will read in the images lazily using a generator. We will encounter generators again later when we train the LSTM. If you are unfamiliar with generators, take a look at this page: https://wiki.python.org/moin/Generators\n",
    "\n",
    "Write the following generator function, which should return one image at a time. \n",
    "`img_list` is a list of image file names (i.e. the train, dev, or test set). The return value should be a numpy array of shape (1,299,299,3)."
   ]
  },
  {
   "cell_type": "code",
   "execution_count": null,
   "metadata": {
    "id": "BOCi-Ds9Ooln"
   },
   "outputs": [],
   "source": [
    "def img_generator(img_list):\n",
    "    #...\n",
    "    yield #..."
   ]
  },
  {
   "cell_type": "markdown",
   "metadata": {
    "id": "g9JitQXkOolr"
   },
   "source": [
    "Now we can encode all images (this takes a few minutes)."
   ]
  },
  {
   "cell_type": "code",
   "execution_count": null,
   "metadata": {
    "id": "1lGoIzbROols"
   },
   "outputs": [],
   "source": [
    "enc_train = img_encoder.predict_generator(img_generator(train_list), steps=len(train_list), verbose=1)"
   ]
  },
  {
   "cell_type": "code",
   "execution_count": null,
   "metadata": {
    "id": "vHUfXCb-Oolu"
   },
   "outputs": [],
   "source": [
    "enc_train[11]"
   ]
  },
  {
   "cell_type": "code",
   "execution_count": null,
   "metadata": {
    "id": "LUMp2TqtOolx"
   },
   "outputs": [],
   "source": [
    "enc_dev = img_encoder.predict_generator(img_generator(dev_list), steps=len(dev_list), verbose=1)"
   ]
  },
  {
   "cell_type": "code",
   "execution_count": null,
   "metadata": {
    "id": "bQwtAEhoOol0"
   },
   "outputs": [],
   "source": [
    "enc_test = img_encoder.predict_generator(img_generator(test_list), steps=len(test_list), verbose=1)"
   ]
  },
  {
   "cell_type": "markdown",
   "metadata": {
    "id": "TlwoEpz0Ool4"
   },
   "source": [
    "It's a good idea to save the resulting matrices, so we do not have to run the encoder again. "
   ]
  },
  {
   "cell_type": "code",
   "execution_count": null,
   "metadata": {
    "id": "R8kzLdH11bIg"
   },
   "outputs": [],
   "source": [
    "# Choose a suitable location here, please do NOT attempt to write your output files to the shared data directory. \n",
    "OUTPUT_PATH = \"hw5output\" \n",
    "if not os.path.exists(OUTPUT_PATH):\n",
    "    os.mkdir(OUTPUT_PATH)"
   ]
  },
  {
   "cell_type": "code",
   "execution_count": null,
   "metadata": {
    "id": "x08KHwOaOol4"
   },
   "outputs": [],
   "source": [
    "np.save(os.path.join(OUTPUT_PATH,\"encoded_images_train.npy\"), enc_train)\n",
    "np.save(os.path.join(OUTPUT_PATH,\"encoded_images_dev.npy\"), enc_dev)\n",
    "np.save(os.path.join(OUTPUT_PATH,\"encoded_images_test.npy\"), enc_test)"
   ]
  },
  {
   "cell_type": "markdown",
   "metadata": {
    "id": "qp_la7ytOol6"
   },
   "source": [
    "## Part II Text (Caption) Data Preparation (14 pts)\n",
    "\n",
    "Next, we need to load the image captions and generate training data for the generator model."
   ]
  },
  {
   "cell_type": "markdown",
   "metadata": {
    "id": "oApfN-CMOol7"
   },
   "source": [
    "### Reading image descriptions"
   ]
  },
  {
   "cell_type": "markdown",
   "metadata": {
    "id": "nGsOQWQKOol7"
   },
   "source": [
    "**TODO**: Write the following function that reads the image descriptions from the file `filename` and returns a dictionary in the following format. Take a look at the file `Flickr8k.token.txt` for the format of the input file. \n",
    "The keys of the dictionary should be image filenames. Each value should be a list of 5 captions. Each caption should be a list of tokens.  \n",
    "\n",
    "The captions in the file are already tokenized, so you can just split them at white spaces. You should convert each token to lower case. You should then pad each caption with a START token on the left and an END token on the right. "
   ]
  },
  {
   "cell_type": "code",
   "execution_count": null,
   "metadata": {
    "id": "90KB4mEFOol8"
   },
   "outputs": [],
   "source": [
    "def read_image_descriptions(filename):    \n",
    "    image_descriptions = defaultdict(list)    \n",
    "    # ...\n",
    "    return image_descriptions"
   ]
  },
  {
   "cell_type": "code",
   "execution_count": null,
   "metadata": {
    "id": "cy3pVpPBOol-",
    "scrolled": true
   },
   "outputs": [],
   "source": [
    "descriptions = read_image_descriptions(f\"{FLICKR_PATH}/Flickr8k.token.txt\")"
   ]
  },
  {
   "cell_type": "code",
   "execution_count": null,
   "metadata": {
    "id": "ntinjJ2mOomD"
   },
   "outputs": [],
   "source": [
    "print(descriptions[dev_list[0]])"
   ]
  },
  {
   "cell_type": "markdown",
   "metadata": {
    "id": "McK3ZJfxOomF"
   },
   "source": [
    "Running the previous cell should print:     \n",
    "`[['<START>', 'the', 'boy', 'laying', 'face', 'down', 'on', 'a', 'skateboard', 'is', 'being', 'pushed', 'along', 'the', 'ground', 'by', 'another', 'boy', '.', '<END>'], ['<START>', 'two', 'girls', 'play', 'on', 'a', 'skateboard', 'in', 'a', 'courtyard', '.', '<END>'], ['<START>', 'two', 'people', 'play', 'on', 'a', 'long', 'skateboard', '.', '<END>'], ['<START>', 'two', 'small', 'children', 'in', 'red', 'shirts', 'playing', 'on', 'a', 'skateboard', '.', '<END>'], ['<START>', 'two', 'young', 'children', 'on', 'a', 'skateboard', 'going', 'across', 'a', 'sidewalk', '<END>']]\n",
    "`    "
   ]
  },
  {
   "cell_type": "markdown",
   "metadata": {
    "id": "XntM_NDrOomF"
   },
   "source": [
    "### Creating Word Indices"
   ]
  },
  {
   "cell_type": "markdown",
   "metadata": {
    "id": "9n7ogb-jOomG"
   },
   "source": [
    "Next, we need to create a lookup table from the **training** data mapping words to integer indices, so we can encode input \n",
    "and output sequences using numeric representations. **TODO** create the dictionaries id_to_word and word_to_id, which should map tokens to numeric ids and numeric ids to tokens.  \n",
    "Hint: Create a set of tokens in the training data first, then convert the set into a list and sort it. This way if you run the code multiple times, you will always get the same dictionaries. "
   ]
  },
  {
   "cell_type": "code",
   "execution_count": null,
   "metadata": {
    "id": "j4pqOO8uOomG"
   },
   "outputs": [],
   "source": [
    "id_to_word = #..."
   ]
  },
  {
   "cell_type": "code",
   "execution_count": null,
   "metadata": {
    "id": "_SF35Hn3OomK"
   },
   "outputs": [],
   "source": [
    "word_to_id = #..."
   ]
  },
  {
   "cell_type": "code",
   "execution_count": null,
   "metadata": {
    "id": "OalLzQ3eOomM"
   },
   "outputs": [],
   "source": [
    "word_to_id['dog'] # should print an integer"
   ]
  },
  {
   "cell_type": "code",
   "execution_count": null,
   "metadata": {
    "id": "1LvZFkcgOomP"
   },
   "outputs": [],
   "source": [
    "id_to_word[1985] # should print a token"
   ]
  },
  {
   "cell_type": "markdown",
   "metadata": {
    "id": "MCyX0fnROomQ"
   },
   "source": [
    "Note that we do not need an UNK word token because we are generating. The generated text will only contain tokens seen at training time.  "
   ]
  },
  {
   "cell_type": "markdown",
   "metadata": {
    "id": "rMF6EhC_OomS"
   },
   "source": [
    "## Part III Basic Decoder Model (24 pts)\n",
    "\n",
    "For now, we will just train a model for text generation without conditioning the generator on the image input. \n",
    "\n",
    "There are different ways to do this and our approach will be slightly different from the generator discussed in class. "
   ]
  },
  {
   "cell_type": "markdown",
   "metadata": {
    "id": "aZCTlT8vOomS"
   },
   "source": [
    "The core idea here is that the Keras recurrent layers (including LSTM) create an \"unrolled\" RNN. Each time-step is represented as a different unit, but the weights for these units are shared. We are going to use the constant MAX_LEN to refer to the maximum length of a sequence, which turns out to be 40 words in this data set (including START and END)."
   ]
  },
  {
   "cell_type": "code",
   "execution_count": null,
   "metadata": {
    "id": "FrUv7QyfOomX"
   },
   "outputs": [],
   "source": [
    "max(len(description) for image_id in train_list for description in descriptions[image_id])"
   ]
  },
  {
   "cell_type": "markdown",
   "metadata": {
    "id": "iALWuacROomZ"
   },
   "source": [
    "In class, we discussed LSTM generators as transducers that map each word in the input sequence to the next word. \n",
    "<img src=\"http://www.cs.columbia.edu/~bauer/4705/lstm1.png\" width=\"480px\">"
   ]
  },
  {
   "cell_type": "markdown",
   "metadata": {
    "id": "E757ZVInOoma"
   },
   "source": [
    "Instead, we will use the model to predict one word at a time, given a partial sequence. For example, given the sequence [\"START\",\"a\"], the model might predict \"dog\" as the most likely word. We are basically using the LSTM to encode the input sequence up to this point. \n",
    "<img src=\"http://www.cs.columbia.edu/~bauer/4705/lstm2.png\" width=\"480px\">\n"
   ]
  },
  {
   "cell_type": "markdown",
   "metadata": {
    "id": "ntpi3gITOoma"
   },
   "source": [
    "To train the model, we will convert each description into a set of input output pairs as follows. For example, consider the sequence \n",
    "\n",
    "`['<START>', 'a', 'black', 'dog', '.', '<END>']`\n",
    "\n",
    "We would train the model using the following input/output pairs \n",
    "\n",
    "| i | input                        | output |\n",
    "|---|------------------------------|--------|\n",
    "| 0 |[`START`]                     | `a`    |  \n",
    "| 1 |[`START`,`a`]                 | `black`|\n",
    "| 2 |[`START`,`a`, `black`]        | `dog`  |\n",
    "| 3 |[`START`,`a`, `black`, `dog`] | `END`  |\n",
    "\n"
   ]
  },
  {
   "cell_type": "markdown",
   "metadata": {
    "id": "C7iqX7aiOoma"
   },
   "source": [
    "Here is the model in Keras Keras. Note that we are using a Bidirectional LSTM, which encodes the sequence from both directions and then predicts the output. \n",
    "Also note the `return_sequence=False` parameter, which causes the LSTM to return a single output instead of one output per state. \n",
    "\n",
    "Note also that we use an embedding layer for the input words. The weights are shared between all units of the unrolled LSTM. We will train these embeddings with the model. "
   ]
  },
  {
   "cell_type": "code",
   "execution_count": null,
   "metadata": {
    "id": "1HRO3wq_Ooma"
   },
   "outputs": [],
   "source": [
    "MAX_LEN = 40\n",
    "EMBEDDING_DIM=300\n",
    "vocab_size = len(word_to_id)\n",
    "\n",
    "# Text input\n",
    "text_input = Input(shape=(MAX_LEN,))\n",
    "embedding = Embedding(vocab_size, EMBEDDING_DIM, input_length=MAX_LEN)(text_input)\n",
    "x = Bidirectional(LSTM(512, return_sequences=False))(embedding)\n",
    "pred = Dense(vocab_size, activation='softmax')(x)\n",
    "model = Model(inputs=[text_input],outputs=pred)\n",
    "model.compile(loss='categorical_crossentropy', optimizer='RMSprop', metrics=['accuracy'])\n",
    "\n",
    "model.summary()"
   ]
  },
  {
   "cell_type": "markdown",
   "metadata": {
    "id": "EffglzWiOomd"
   },
   "source": [
    "The model input is a numpy ndarray (a tensor) of size `(batch_size, MAX_LEN)`. Each row is a vector of size MAX_LEN in which each entry is an integer representing a word (according to the `word_to_id` dictionary). If the input sequence is shorter than MAX_LEN, the remaining entries should be padded with 0. \n",
    "\n",
    "For each input example, the model returns a softmax activated vector (a probability distribution) over possible output words. The model output is a numpy ndarray of size `(batch_size, vocab_size)`. vocab_size is the number of vocabulary words. "
   ]
  },
  {
   "cell_type": "markdown",
   "metadata": {
    "id": "K_3J4Uf5Oome"
   },
   "source": [
    "### Creating a Generator for the Training Data"
   ]
  },
  {
   "cell_type": "markdown",
   "metadata": {
    "id": "0uYxdJ94Oome"
   },
   "source": [
    "**TODO**: \n",
    "\n",
    "We could simply create one large numpy ndarray for all the training data. Because we have a lot of training instances (each training sentence will produce up to MAX_LEN input/output pairs, one for each word), it is better to produce the training examples *lazily*, i.e. in batches using a generator (recall the image generator in part I). \n",
    "\n",
    "Write the function `text_training_generator` below, that takes as a paramater the batch_size and returns an `(input, output)` pair. `input` is a `(batch_size, MAX_LEN)` ndarray of partial input sequences, `output` contains the next words predicted for each partial input sequence, encoded as a `(batch_size, vocab_size)` ndarray.\n",
    "\n",
    "Each time the next() function is called on the generator instance, it should return a new batch of the *training* data. You can use `train_list` as a list of training images. A batch may contain input/output examples extracted from different descriptions or even from different images. \n",
    "\n",
    "You can just refer back to the variables you have defined above, including `descriptions`, `train_list`, `vocab_size`, etc. \n"
   ]
  },
  {
   "cell_type": "markdown",
   "metadata": {
    "id": "-xHmvjz9Oomf"
   },
   "source": [
    "Hint: To prevent issues with having to reset the generator for each epoch and to make sure the generator can always return exactly `batch_size` input/output pairs in each step, wrap your code into a `while True:` loop. This way, when you reach the end of the training data, you will just continue adding training data from the beginning into the batch. "
   ]
  },
  {
   "cell_type": "code",
   "execution_count": null,
   "metadata": {
    "id": "mJGkRbCxOomf"
   },
   "outputs": [],
   "source": [
    "def text_training_generator(batch_size=128):\n",
    "    pass\n",
    "    # ... "
   ]
  },
  {
   "cell_type": "markdown",
   "metadata": {
    "id": "nZ47Z-NXOomi"
   },
   "source": [
    "### Training the Model"
   ]
  },
  {
   "cell_type": "markdown",
   "metadata": {
    "id": "n1BCHdMZOomi"
   },
   "source": [
    "We will use the `fit_generator` method of the model to train the model. fit_generator needs to know how many iterator steps there are per epoch.\n",
    "\n",
    "Because there are len(train_list) training samples with up to `MAX_LEN` words, an upper bound for the number of total training instances is `len(train_list)*MAX_LEN`. Because the generator returns these in batches, the number of steps is len(train_list) * MAX_LEN // batch_size"
   ]
  },
  {
   "cell_type": "code",
   "execution_count": null,
   "metadata": {
    "id": "BIL9oMqYOomj"
   },
   "outputs": [],
   "source": [
    "batch_size = 128\n",
    "generator = text_training_generator(batch_size)\n",
    "steps = len(train_list) * MAX_LEN // batch_size "
   ]
  },
  {
   "cell_type": "code",
   "execution_count": null,
   "metadata": {
    "id": "AnICBYqxOoml"
   },
   "outputs": [],
   "source": [
    "model.fit_generator(generator, steps_per_epoch=steps, verbose=True, epochs=10)"
   ]
  },
  {
   "cell_type": "markdown",
   "metadata": {
    "id": "-mQKCbBROomn"
   },
   "source": [
    "Continue to train the model until you reach an accuracy of at least 40%. "
   ]
  },
  {
   "cell_type": "markdown",
   "metadata": {
    "id": "yQNWgytHOomo"
   },
   "source": [
    "### Greedy Decoder\n",
    "\n",
    "**TODO** Next, you will write a decoder. The decoder should start with the sequence `[\"<START>\"]`, use the model to predict the most likely word, append the word to the sequence and then continue until `\"<END>\"` is predicted or the sequence reaches `MAX_LEN` words. "
   ]
  },
  {
   "cell_type": "code",
   "execution_count": null,
   "metadata": {
    "id": "j0ztYhD8Oomp"
   },
   "outputs": [],
   "source": [
    "def decoder():\n",
    "    # ...\n",
    "    return []"
   ]
  },
  {
   "cell_type": "code",
   "execution_count": null,
   "metadata": {
    "id": "jKYNQHlpOomq"
   },
   "outputs": [],
   "source": [
    "print(decoder())"
   ]
  },
  {
   "cell_type": "markdown",
   "metadata": {
    "id": "DeigklkNOomt"
   },
   "source": [
    "This simple decoder will of course always predict the same sequence (and it's not necessarily a good one). \n",
    "\n",
    "Modify the decoder as follows. Instead of choosing the most likely word in each step, sample the next word from the distribution (i.e. the softmax activated output) returned by the model. Take a look at the [np.random.multinomial](https://docs.scipy.org/doc/numpy/reference/generated/numpy.random.multinomial.html) function to do this. "
   ]
  },
  {
   "cell_type": "code",
   "execution_count": null,
   "metadata": {
    "id": "RqznTk03Oomu"
   },
   "outputs": [],
   "source": [
    "def sample_decoder():\n",
    "    #...\n",
    "    return []"
   ]
  },
  {
   "cell_type": "markdown",
   "metadata": {
    "id": "19ERgCQ5Oomx"
   },
   "source": [
    "You should now be able to see some interesting output that looks a lot like flickr8k image captions -- only that the captions are generated randomly without any image input. "
   ]
  },
  {
   "cell_type": "code",
   "execution_count": null,
   "metadata": {
    "id": "4wYWAOjDOomx"
   },
   "outputs": [],
   "source": [
    "for i in range(10): \n",
    "    print(sample_decoder())"
   ]
  },
  {
   "cell_type": "markdown",
   "metadata": {
    "id": "6US9JbinOomz"
   },
   "source": [
    "## Part III - Conditioning on the Image (24 pts)"
   ]
  },
  {
   "cell_type": "markdown",
   "metadata": {
    "id": "843GXdMSOom0"
   },
   "source": [
    "We will now extend the model to condition the next word not only on the partial sequence, but also on the encoded image. \n",
    "\n",
    "We will project the 2048-dimensional image encoding to a 300-dimensional hidden layer. \n",
    "We then concatenate this vector with each embedded input word, before applying the LSTM.\n",
    "\n",
    "Here is what the Keras model looks like: "
   ]
  },
  {
   "cell_type": "code",
   "execution_count": null,
   "metadata": {
    "id": "p4JyIEFGOom0"
   },
   "outputs": [],
   "source": [
    "MAX_LEN = 40\n",
    "EMBEDDING_DIM=300\n",
    "IMAGE_ENC_DIM=300\n",
    "\n",
    "# Image input\n",
    "img_input = Input(shape=(2048,))\n",
    "img_enc = Dense(300, activation=\"relu\") (img_input)\n",
    "images = RepeatVector(MAX_LEN)(img_enc)\n",
    "\n",
    "# Text input\n",
    "text_input = Input(shape=(MAX_LEN,))\n",
    "embedding = Embedding(vocab_size, EMBEDDING_DIM, input_length=MAX_LEN)(text_input)\n",
    "x = Concatenate()([images,embedding])\n",
    "y = Bidirectional(LSTM(256, return_sequences=False))(x) \n",
    "pred = Dense(vocab_size, activation='softmax')(y)\n",
    "model = Model(inputs=[img_input,text_input],outputs=pred)\n",
    "model.compile(loss='categorical_crossentropy', optimizer=\"RMSProp\", metrics=['accuracy'])\n",
    "\n",
    "model.summary()"
   ]
  },
  {
   "cell_type": "markdown",
   "metadata": {
    "id": "wcifvfqiOom3"
   },
   "source": [
    "The model now takes two inputs: \n",
    "    \n",
    "   1. a `(batch_size, 2048)` ndarray of image encodings. \n",
    "   2. a `(batch_size, MAX_LEN)` ndarray of partial input sequences. \n",
    "    \n",
    "And one output as before: a `(batch_size, vocab_size)` ndarray of predicted word distributions.   "
   ]
  },
  {
   "cell_type": "markdown",
   "metadata": {
    "id": "lLqklyJOOom4"
   },
   "source": [
    "**TODO**: Modify the training data generator to include the image with each input/output pair. \n",
    "Your generator needs to return an object of the following format: `([image_inputs, text_inputs], next_words)`. Where each element is an ndarray of the type described above.  \n",
    "\n",
    "You need to find the image encoding that belongs to each image. You can use the fact that the index of the image in `train_list` is the same as the index in enc_train and enc_dev. \n",
    "\n",
    "If you have previously saved the image encodings, you can load them from disk: "
   ]
  },
  {
   "cell_type": "code",
   "execution_count": null,
   "metadata": {
    "id": "UNI-XczcOom4"
   },
   "outputs": [],
   "source": [
    "enc_train = np.load(f\"{OUTPUT_PATH}/encoded_images_train.npy\")\n",
    "enc_dev = np.load(f\"{OUTPUT_PATH}/encoded_images_dev.npy\")"
   ]
  },
  {
   "cell_type": "code",
   "execution_count": null,
   "metadata": {
    "id": "lm7gBwiKOom6"
   },
   "outputs": [],
   "source": [
    "def training_generator(batch_size=128):\n",
    "    #...\n",
    "    yield #..."
   ]
  },
  {
   "cell_type": "markdown",
   "metadata": {
    "id": "oM7HRhtvOom9"
   },
   "source": [
    "You should now be able to train the model as before: "
   ]
  },
  {
   "cell_type": "code",
   "execution_count": null,
   "metadata": {
    "id": "L08n7q8gOom9"
   },
   "outputs": [],
   "source": [
    "batch_size = 128\n",
    "generator = training_generator(batch_size)\n",
    "steps = len(train_list) * MAX_LEN // batch_size "
   ]
  },
  {
   "cell_type": "code",
   "execution_count": null,
   "metadata": {
    "id": "OKMXQF9ROom_"
   },
   "outputs": [],
   "source": [
    "model.fit_generator(generator, steps_per_epoch=steps, verbose=True, epochs=20)"
   ]
  },
  {
   "cell_type": "markdown",
   "metadata": {
    "id": "Mk3blkF8OonB"
   },
   "source": [
    "Again, continue to train the model until you hit an accuracy of about 40%. This may take a while. I strongly encourage you to experiment with cloud GPUs using the GCP voucher for the class. "
   ]
  },
  {
   "cell_type": "markdown",
   "metadata": {
    "id": "cKYNGVOJOonB"
   },
   "source": [
    "You can save your model weights to disk and continue at a later time. "
   ]
  },
  {
   "cell_type": "code",
   "execution_count": null,
   "metadata": {
    "id": "DBQ1K6W0OonC"
   },
   "outputs": [],
   "source": [
    "model.save_weights(f\"{OUTPUT_PATH}/model.h5\")"
   ]
  },
  {
   "cell_type": "markdown",
   "metadata": {
    "id": "uD_sII97OonE"
   },
   "source": [
    "to load the model: "
   ]
  },
  {
   "cell_type": "code",
   "execution_count": null,
   "metadata": {
    "id": "iOFOY0FDOonE"
   },
   "outputs": [],
   "source": [
    "model.load_weights(f\"{OUTPUT_PATH}/model.h5\")"
   ]
  },
  {
   "cell_type": "markdown",
   "metadata": {
    "id": "DzgX3difOonH"
   },
   "source": [
    "**TODO**: Now we are ready to actually generate image captions using the trained model. Modify the simple greedy decoder you wrote for the text-only generator, so that it takes an encoded image (a vector of length 2048) as input, and returns a sequence."
   ]
  },
  {
   "cell_type": "code",
   "execution_count": null,
   "metadata": {
    "id": "Z0U2vfIJOonI"
   },
   "outputs": [],
   "source": [
    "def image_decoder(enc_image): \n",
    "    # ...\n",
    "    "
   ]
  },
  {
   "cell_type": "markdown",
   "metadata": {
    "id": "ADKcm_EWOonJ"
   },
   "source": [
    "As a sanity check, you should now be able to reproduce (approximately) captions for the training images. "
   ]
  },
  {
   "cell_type": "code",
   "execution_count": null,
   "metadata": {
    "id": "_Jfd3e7nOonJ"
   },
   "outputs": [],
   "source": [
    "plt.imshow(get_image(train_list[0]))\n",
    "img_decoder(enc_train[0])"
   ]
  },
  {
   "cell_type": "markdown",
   "metadata": {
    "id": "8JFAR-_jOonL"
   },
   "source": [
    "You should also be able to apply the model to dev images and get reasonable captions:"
   ]
  },
  {
   "cell_type": "code",
   "execution_count": null,
   "metadata": {
    "id": "fS4wcPeYOonM"
   },
   "outputs": [],
   "source": [
    "plt.imshow(get_image(dev_list[1]))\n",
    "img_decoder(enc_dev[0])"
   ]
  },
  {
   "cell_type": "markdown",
   "metadata": {
    "id": "HGNx5zj-OonO"
   },
   "source": [
    "For this assignment we will not perform a formal evaluation. "
   ]
  },
  {
   "cell_type": "markdown",
   "metadata": {
    "id": "gLCr09IdOonO"
   },
   "source": [
    "Feel free to experiment with the parameters of the model or continue training the model. At some point, the model will overfit and will no longer produce good descriptions for the dev images. "
   ]
  },
  {
   "cell_type": "markdown",
   "metadata": {
    "id": "hifHwKUtOonO"
   },
   "source": [
    "## Part IV - Beam Search Decoder (24 pts)"
   ]
  },
  {
   "cell_type": "markdown",
   "metadata": {
    "id": "OrniTyvEOonP"
   },
   "source": [
    "**TODO** Modify the simple greedy decoder for the caption generator to use beam search. \n",
    "Instead of always selecting the most probable word, use a *beam*, which contains the n highest-scoring sequences so far and their total probability (i.e. the product of all word probabilities). I recommend that you use a list of `(probability, sequence)` tuples. After each time-step, prune the list to include only the n most probable sequences. \n",
    "\n",
    "Then, for each sequence, compute the n most likely successor words. Append the word to produce n new sequences and compute their score. This way, you create a new list of n*n candidates. \n",
    "\n",
    "Prune this list to the best n as before and continue until `MAX_LEN` words have been generated. \n",
    "\n",
    "Note that you cannot use the occurence of the `\"<END>\"` tag to terminate generation, because the tag may occur in different positions for different entries in the beam. \n",
    "\n",
    "Once `MAX_LEN` has been reached, return the most likely sequence out of the current n. "
   ]
  },
  {
   "cell_type": "code",
   "execution_count": null,
   "metadata": {
    "id": "g4gQ4H-1OonP"
   },
   "outputs": [],
   "source": [
    "def img_beam_decoder(n, image_enc):\n",
    "   \n",
    "       #..."
   ]
  },
  {
   "cell_type": "code",
   "execution_count": null,
   "metadata": {
    "id": "JN_zDOMpOonR"
   },
   "outputs": [],
   "source": [
    "beam_decoder(3, dev_list[1])"
   ]
  },
  {
   "cell_type": "markdown",
   "metadata": {
    "id": "Ro_iyz1bOonT"
   },
   "source": [
    "**TODO** Finally, before you submit this assignment, please show 5 development images, each with 1) their greedy output, 2) beam search at n=3 3) beam search at n=5. "
   ]
  }
 ],
 "metadata": {
  "colab": {
   "collapsed_sections": [
    "K_3J4Uf5Oome",
    "nZ47Z-NXOomi",
    "yQNWgytHOomo",
    "6US9JbinOomz",
    "hifHwKUtOonO"
   ],
   "name": "flickr_caption_generator.ipynb",
   "provenance": [],
   "toc_visible": true
  },
  "kernelspec": {
   "display_name": "Python 3 (ipykernel)",
   "language": "python",
   "name": "python3"
  },
  "language_info": {
   "codemirror_mode": {
    "name": "ipython",
    "version": 3
   },
   "file_extension": ".py",
   "mimetype": "text/x-python",
   "name": "python",
   "nbconvert_exporter": "python",
   "pygments_lexer": "ipython3",
   "version": "3.9.7"
  }
 },
 "nbformat": 4,
 "nbformat_minor": 1
}
